{
  "nbformat": 4,
  "nbformat_minor": 0,
  "metadata": {
    "colab": {
      "provenance": [],
      "authorship_tag": "ABX9TyNhymq/ASGog7BZLV5tLXMF",
      "include_colab_link": true
    },
    "kernelspec": {
      "name": "python3",
      "display_name": "Python 3"
    },
    "language_info": {
      "name": "python"
    }
  },
  "cells": [
    {
      "cell_type": "markdown",
      "metadata": {
        "id": "view-in-github",
        "colab_type": "text"
      },
      "source": [
        "<a href=\"https://colab.research.google.com/github/Dinesh-1602/Project-1/blob/main/Mini_Project_1.ipynb\" target=\"_parent\"><img src=\"https://colab.research.google.com/assets/colab-badge.svg\" alt=\"Open In Colab\"/></a>"
      ]
    },
    {
      "cell_type": "markdown",
      "source": [
        "Step 1: Gather Data Files"
      ],
      "metadata": {
        "id": "9L1LCzrSbUhe"
      }
    },
    {
      "cell_type": "code",
      "source": [
        "import os\n",
        "\n",
        "# Create a folder to store the data (if it doesn't exist)\n",
        "DATA_FOLDER = './data'\n",
        "os.makedirs(DATA_FOLDER, exist_ok=True)\n",
        "\n",
        "# Step 1b: Download the dataset using wget\n",
        "!wget -P {DATA_FOLDER} https://cf-courses-data.s3.us.cloud-object-storage.appdomain.cloud/IBMDeveloperSkillsNetwork-PY0221EN-SkillsNetwork/labs/module%206/Lab%20-%20Extract%20Transform%20Load/data/source.zip\n",
        "\n",
        "# Step 1c: Extract the files using the unzip command\n",
        "!unzip {DATA_FOLDER}/source.zip -d {DATA_FOLDER}\n",
        "\n",
        "print(\"Data files downloaded and extracted successfully.\")\n"
      ],
      "metadata": {
        "colab": {
          "base_uri": "https://localhost:8080/"
        },
        "id": "h_3s1VkQa-By",
        "outputId": "7cfae299-2973-43dd-c78d-d424fd96d6fc"
      },
      "execution_count": null,
      "outputs": [
        {
          "output_type": "stream",
          "name": "stdout",
          "text": [
            "--2025-07-24 05:54:12--  https://cf-courses-data.s3.us.cloud-object-storage.appdomain.cloud/IBMDeveloperSkillsNetwork-PY0221EN-SkillsNetwork/labs/module%206/Lab%20-%20Extract%20Transform%20Load/data/source.zip\n",
            "Resolving cf-courses-data.s3.us.cloud-object-storage.appdomain.cloud (cf-courses-data.s3.us.cloud-object-storage.appdomain.cloud)... 169.45.118.108\n",
            "Connecting to cf-courses-data.s3.us.cloud-object-storage.appdomain.cloud (cf-courses-data.s3.us.cloud-object-storage.appdomain.cloud)|169.45.118.108|:443... connected.\n",
            "HTTP request sent, awaiting response... 200 OK\n",
            "Length: 2707 (2.6K) [application/zip]\n",
            "Saving to: ‘./data/source.zip’\n",
            "\n",
            "\rsource.zip            0%[                    ]       0  --.-KB/s               \rsource.zip          100%[===================>]   2.64K  --.-KB/s    in 0s      \n",
            "\n",
            "2025-07-24 05:54:13 (655 MB/s) - ‘./data/source.zip’ saved [2707/2707]\n",
            "\n",
            "Archive:  ./data/source.zip\n",
            "  inflating: ./data/source3.json     \n",
            "  inflating: ./data/source1.csv      \n",
            "  inflating: ./data/source2.csv      \n",
            "  inflating: ./data/source3.csv      \n",
            "  inflating: ./data/source1.json     \n",
            "  inflating: ./data/source2.json     \n",
            "  inflating: ./data/source1.xml      \n",
            "  inflating: ./data/source2.xml      \n",
            "  inflating: ./data/source3.xml      \n",
            "Data files downloaded and extracted successfully.\n"
          ]
        }
      ]
    },
    {
      "cell_type": "markdown",
      "source": [
        " Step 2: Import Libraries and Set Paths"
      ],
      "metadata": {
        "id": "x6eiIluVbrKS"
      }
    },
    {
      "cell_type": "code",
      "source": [
        "import glob\n",
        "import pandas as pd\n",
        "import xml.etree.ElementTree as ET\n",
        "from datetime import datetime\n",
        "\n",
        "# Set up local paths\n",
        "LOG_FILE = './log_file.txt'\n",
        "OUTPUT_FILE = './transformed_data.csv'\n",
        "DATA_FOLDER = './data'\n"
      ],
      "metadata": {
        "id": "MSffLAihcIDx"
      },
      "execution_count": null,
      "outputs": []
    },
    {
      "cell_type": "markdown",
      "source": [
        "Step 3: ETL Process"
      ],
      "metadata": {
        "id": "FkDMApjTcPEJ"
      }
    },
    {
      "cell_type": "code",
      "source": [
        "# Extract data from CSV\n",
        "def extract_csv(file_path):\n",
        "    log(f'Extracting data from CSV file: {file_path}')\n",
        "    return pd.read_csv(file_path)\n",
        "\n",
        "# Extract data from JSON\n",
        "def extract_json(file_path):\n",
        "    log(f'Extracting data from JSON file: {file_path}')\n",
        "    return pd.read_json(file_path)\n",
        "\n",
        "# Extract data from XML\n",
        "def extract_xml(file_path):\n",
        "    log(f'Extracting data from XML file: {file_path}')\n",
        "    tree = ET.parse(file_path)\n",
        "    root = tree.getroot()\n",
        "    data = []\n",
        "    for record in root:\n",
        "        row = {field.tag: field.text for field in record}\n",
        "        data.append(row)\n",
        "    return pd.DataFrame(data)\n",
        "\n",
        "# Master function to extract all files\n",
        "def extract():\n",
        "    log('Starting data extraction...')\n",
        "    all_files = glob.glob(f\"{DATA_FOLDER}/*\")\n",
        "\n",
        "    data_frames = []\n",
        "\n",
        "    for file in all_files:\n",
        "        try:\n",
        "            if file.endswith('.csv'):\n",
        "                data_frames.append(extract_csv(file))\n",
        "            elif file.endswith('.json'):\n",
        "                data_frames.append(extract_json(file))\n",
        "            elif file.endswith('.xml'):\n",
        "                data_frames.append(extract_xml(file))\n",
        "        except Exception as e:\n",
        "            log(f\"Error processing file {file}: {e}\")\n",
        "\n",
        "    if not data_frames:\n",
        "        log(\"No valid data found!\")\n",
        "        return pd.DataFrame()\n",
        "\n",
        "    combined_data = pd.concat(data_frames, ignore_index=True)\n",
        "    log('Data extraction completed.')\n",
        "    return combined_data\n"
      ],
      "metadata": {
        "id": "GdADq_P6cWbK"
      },
      "execution_count": null,
      "outputs": []
    },
    {
      "cell_type": "code",
      "source": [
        "def transform(data):\n",
        "    log('Starting data transformation...')\n",
        "\n",
        "    # Convert height from inches to meters\n",
        "    if 'height' in data.columns:\n",
        "        data['height'] = data['height'].astype(float) * 0.0254\n",
        "\n",
        "    # Convert weight from pounds to kilograms\n",
        "    if 'weight' in data.columns:\n",
        "        data['weight'] = data['weight'].astype(float) * 0.453592\n",
        "\n",
        "    log('Data transformation completed.')\n",
        "    return data\n"
      ],
      "metadata": {
        "id": "hYhi4IqucxTk"
      },
      "execution_count": null,
      "outputs": []
    },
    {
      "cell_type": "code",
      "source": [
        "def load(data):\n",
        "    log(f'Saving data to {OUTPUT_FILE}...')\n",
        "    data.to_csv(OUTPUT_FILE, index=False)\n",
        "    log('Data loading completed.')"
      ],
      "metadata": {
        "id": "d9oMVuudc1Xo"
      },
      "execution_count": null,
      "outputs": []
    },
    {
      "cell_type": "code",
      "source": [
        "  def log(message):\n",
        "      timestamp = datetime.now().strftime('%Y-%m-%d %H:%M:%S')\n",
        "      with open(LOG_FILE, 'a') as log_file:\n",
        "          log_file.write(f'[{timestamp}] {message}\\n')\n",
        "      print(f'[{timestamp}] {message}')\n"
      ],
      "metadata": {
        "id": "gj1t-2czc5iD"
      },
      "execution_count": null,
      "outputs": []
    },
    {
      "cell_type": "markdown",
      "source": [
        "Step 4: ETL Execution"
      ],
      "metadata": {
        "id": "zjmmoV0Vc_bX"
      }
    },
    {
      "cell_type": "code",
      "source": [
        "def run_etl():\n",
        "    log('Starting ETL process...')\n",
        "    data = extract()\n",
        "\n",
        "    if not data.empty:\n",
        "        data = transform(data)\n",
        "        load(data)\n",
        "\n",
        "    log('ETL process completed.')\n"
      ],
      "metadata": {
        "id": "oDiWw1ZydKNZ"
      },
      "execution_count": null,
      "outputs": []
    },
    {
      "cell_type": "code",
      "source": [
        "if __name__ == \"__main__\":\n",
        "    run_etl()\n"
      ],
      "metadata": {
        "colab": {
          "base_uri": "https://localhost:8080/"
        },
        "id": "MNk1s6yEdV5l",
        "outputId": "da703f36-46a5-41f6-eab5-2052d285b5fc"
      },
      "execution_count": null,
      "outputs": [
        {
          "output_type": "stream",
          "name": "stdout",
          "text": [
            "[2025-07-24 05:54:58] Starting ETL process...\n",
            "[2025-07-24 05:54:58] Starting data extraction...\n",
            "[2025-07-24 05:54:58] Extracting data from JSON file: ./data/source2.json\n",
            "[2025-07-24 05:54:58] Error processing file ./data/source2.json: Trailing data\n",
            "[2025-07-24 05:54:58] Extracting data from CSV file: ./data/source3.csv\n",
            "[2025-07-24 05:54:58] Extracting data from CSV file: ./data/source1.csv\n",
            "[2025-07-24 05:54:58] Extracting data from JSON file: ./data/source3.json\n",
            "[2025-07-24 05:54:58] Error processing file ./data/source3.json: Trailing data\n",
            "[2025-07-24 05:54:58] Extracting data from XML file: ./data/source2.xml\n",
            "[2025-07-24 05:54:58] Extracting data from XML file: ./data/source3.xml\n",
            "[2025-07-24 05:54:58] Extracting data from XML file: ./data/source1.xml\n",
            "[2025-07-24 05:54:58] Extracting data from CSV file: ./data/source2.csv\n",
            "[2025-07-24 05:54:58] Extracting data from JSON file: ./data/source1.json\n",
            "[2025-07-24 05:54:58] Error processing file ./data/source1.json: Trailing data\n",
            "[2025-07-24 05:54:58] Data extraction completed.\n",
            "[2025-07-24 05:54:58] Starting data transformation...\n",
            "[2025-07-24 05:54:58] Data transformation completed.\n",
            "[2025-07-24 05:54:58] Saving data to ./transformed_data.csv...\n",
            "[2025-07-24 05:54:58] Data loading completed.\n",
            "[2025-07-24 05:54:58] ETL process completed.\n"
          ]
        }
      ]
    },
    {
      "cell_type": "code",
      "source": [],
      "metadata": {
        "id": "SkrjHJ-9_xMa"
      },
      "execution_count": null,
      "outputs": []
    }
  ]
}